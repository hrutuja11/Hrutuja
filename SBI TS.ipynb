{
 "cells": [
  {
   "cell_type": "code",
   "execution_count": 3,
   "id": "beacb3b7-6dc3-430a-b76d-000454c72393",
   "metadata": {},
   "outputs": [],
   "source": [
    "import pandas as pd\n",
    "import numpy as np\n",
    "import seaborn as sns \n",
    "import matplotlib.pyplot as plt\n",
    "import warnings\n",
    "warnings.filterwarnings('ignore')\n",
    "from statsmodels.tsa.api import ExponentialSmoothing, SimpleExpSmoothing, Holt"
   ]
  },
  {
   "cell_type": "code",
   "execution_count": 6,
   "id": "f0ff7c7e-9b96-4a65-be82-a198587e6569",
   "metadata": {},
   "outputs": [
    {
     "data": {
      "text/html": [
       "<div>\n",
       "<style scoped>\n",
       "    .dataframe tbody tr th:only-of-type {\n",
       "        vertical-align: middle;\n",
       "    }\n",
       "\n",
       "    .dataframe tbody tr th {\n",
       "        vertical-align: top;\n",
       "    }\n",
       "\n",
       "    .dataframe thead th {\n",
       "        text-align: right;\n",
       "    }\n",
       "</style>\n",
       "<table border=\"1\" class=\"dataframe\">\n",
       "  <thead>\n",
       "    <tr style=\"text-align: right;\">\n",
       "      <th></th>\n",
       "      <th>Date</th>\n",
       "      <th>Price</th>\n",
       "      <th>Open</th>\n",
       "      <th>High</th>\n",
       "      <th>Low</th>\n",
       "      <th>Vol</th>\n",
       "      <th>Change_percent</th>\n",
       "    </tr>\n",
       "  </thead>\n",
       "  <tbody>\n",
       "    <tr>\n",
       "      <th>0</th>\n",
       "      <td>Aug 07, 2020</td>\n",
       "      <td>190.65</td>\n",
       "      <td>191.45</td>\n",
       "      <td>192.10</td>\n",
       "      <td>189.55</td>\n",
       "      <td>44.82M</td>\n",
       "      <td>-0.16%</td>\n",
       "    </tr>\n",
       "    <tr>\n",
       "      <th>1</th>\n",
       "      <td>Aug 06, 2020</td>\n",
       "      <td>190.95</td>\n",
       "      <td>192.30</td>\n",
       "      <td>194.50</td>\n",
       "      <td>190.25</td>\n",
       "      <td>59.74M</td>\n",
       "      <td>-0.26%</td>\n",
       "    </tr>\n",
       "    <tr>\n",
       "      <th>2</th>\n",
       "      <td>Aug 05, 2020</td>\n",
       "      <td>191.45</td>\n",
       "      <td>192.75</td>\n",
       "      <td>196.85</td>\n",
       "      <td>191.00</td>\n",
       "      <td>68.89M</td>\n",
       "      <td>-0.08%</td>\n",
       "    </tr>\n",
       "    <tr>\n",
       "      <th>3</th>\n",
       "      <td>Aug 04, 2020</td>\n",
       "      <td>191.60</td>\n",
       "      <td>193.35</td>\n",
       "      <td>193.80</td>\n",
       "      <td>190.50</td>\n",
       "      <td>43.87M</td>\n",
       "      <td>-0.34%</td>\n",
       "    </tr>\n",
       "    <tr>\n",
       "      <th>4</th>\n",
       "      <td>Aug 03, 2020</td>\n",
       "      <td>192.25</td>\n",
       "      <td>192.00</td>\n",
       "      <td>194.60</td>\n",
       "      <td>190.05</td>\n",
       "      <td>72.46M</td>\n",
       "      <td>0.42%</td>\n",
       "    </tr>\n",
       "  </tbody>\n",
       "</table>\n",
       "</div>"
      ],
      "text/plain": [
       "           Date   Price    Open    High     Low     Vol Change_percent\n",
       "0  Aug 07, 2020  190.65  191.45  192.10  189.55  44.82M         -0.16%\n",
       "1  Aug 06, 2020  190.95  192.30  194.50  190.25  59.74M         -0.26%\n",
       "2  Aug 05, 2020  191.45  192.75  196.85  191.00  68.89M         -0.08%\n",
       "3  Aug 04, 2020  191.60  193.35  193.80  190.50  43.87M         -0.34%\n",
       "4  Aug 03, 2020  192.25  192.00  194.60  190.05  72.46M          0.42%"
      ]
     },
     "execution_count": 6,
     "metadata": {},
     "output_type": "execute_result"
    }
   ],
   "source": [
    "df=pd.read_csv(r\"C:\\Users\\lenovo\\OneDrive\\Desktop\\HRUTUJA\\Imarticus\\Dataset\\SBI_Historical_Data.csv\")\n",
    "df.head()"
   ]
  },
  {
   "cell_type": "code",
   "execution_count": 8,
   "id": "e27ab1a9-7b89-4f22-b6d5-2ff28274163c",
   "metadata": {},
   "outputs": [
    {
     "data": {
      "text/plain": [
       "(1385, 7)"
      ]
     },
     "execution_count": 8,
     "metadata": {},
     "output_type": "execute_result"
    }
   ],
   "source": [
    "df.shape"
   ]
  },
  {
   "cell_type": "code",
   "execution_count": 10,
   "id": "7d49e267-57b4-4c9f-9bdd-515886c6388d",
   "metadata": {},
   "outputs": [
    {
     "data": {
      "text/html": [
       "<div>\n",
       "<style scoped>\n",
       "    .dataframe tbody tr th:only-of-type {\n",
       "        vertical-align: middle;\n",
       "    }\n",
       "\n",
       "    .dataframe tbody tr th {\n",
       "        vertical-align: top;\n",
       "    }\n",
       "\n",
       "    .dataframe thead th {\n",
       "        text-align: right;\n",
       "    }\n",
       "</style>\n",
       "<table border=\"1\" class=\"dataframe\">\n",
       "  <thead>\n",
       "    <tr style=\"text-align: right;\">\n",
       "      <th></th>\n",
       "      <th>Price</th>\n",
       "      <th>Open</th>\n",
       "      <th>High</th>\n",
       "      <th>Low</th>\n",
       "    </tr>\n",
       "  </thead>\n",
       "  <tbody>\n",
       "    <tr>\n",
       "      <th>count</th>\n",
       "      <td>1385.000000</td>\n",
       "      <td>1385.000000</td>\n",
       "      <td>1385.000000</td>\n",
       "      <td>1385.000000</td>\n",
       "    </tr>\n",
       "    <tr>\n",
       "      <th>mean</th>\n",
       "      <td>266.274404</td>\n",
       "      <td>266.903213</td>\n",
       "      <td>270.343682</td>\n",
       "      <td>262.757906</td>\n",
       "    </tr>\n",
       "    <tr>\n",
       "      <th>std</th>\n",
       "      <td>45.555277</td>\n",
       "      <td>45.590664</td>\n",
       "      <td>45.829745</td>\n",
       "      <td>45.248334</td>\n",
       "    </tr>\n",
       "    <tr>\n",
       "      <th>min</th>\n",
       "      <td>150.850000</td>\n",
       "      <td>151.950000</td>\n",
       "      <td>153.200000</td>\n",
       "      <td>148.250000</td>\n",
       "    </tr>\n",
       "    <tr>\n",
       "      <th>25%</th>\n",
       "      <td>245.650000</td>\n",
       "      <td>245.900000</td>\n",
       "      <td>248.800000</td>\n",
       "      <td>242.550000</td>\n",
       "    </tr>\n",
       "    <tr>\n",
       "      <th>50%</th>\n",
       "      <td>270.800000</td>\n",
       "      <td>271.150000</td>\n",
       "      <td>274.600000</td>\n",
       "      <td>267.400000</td>\n",
       "    </tr>\n",
       "    <tr>\n",
       "      <th>75%</th>\n",
       "      <td>296.150000</td>\n",
       "      <td>296.500000</td>\n",
       "      <td>300.750000</td>\n",
       "      <td>292.200000</td>\n",
       "    </tr>\n",
       "    <tr>\n",
       "      <th>max</th>\n",
       "      <td>372.400000</td>\n",
       "      <td>371.950000</td>\n",
       "      <td>373.800000</td>\n",
       "      <td>366.200000</td>\n",
       "    </tr>\n",
       "  </tbody>\n",
       "</table>\n",
       "</div>"
      ],
      "text/plain": [
       "             Price         Open         High          Low\n",
       "count  1385.000000  1385.000000  1385.000000  1385.000000\n",
       "mean    266.274404   266.903213   270.343682   262.757906\n",
       "std      45.555277    45.590664    45.829745    45.248334\n",
       "min     150.850000   151.950000   153.200000   148.250000\n",
       "25%     245.650000   245.900000   248.800000   242.550000\n",
       "50%     270.800000   271.150000   274.600000   267.400000\n",
       "75%     296.150000   296.500000   300.750000   292.200000\n",
       "max     372.400000   371.950000   373.800000   366.200000"
      ]
     },
     "execution_count": 10,
     "metadata": {},
     "output_type": "execute_result"
    }
   ],
   "source": [
    "df.describe()"
   ]
  },
  {
   "cell_type": "code",
   "execution_count": 12,
   "id": "afe7c966-3ebc-4400-a91f-e141a47b892b",
   "metadata": {},
   "outputs": [],
   "source": [
    "df['Date'] = pd.to_datetime(df['Date'])\n",
    "df['Date'] = df['Date'].dt.to_period('M')"
   ]
  },
  {
   "cell_type": "code",
   "execution_count": 14,
   "id": "8858c038-e2ce-4a42-be21-7d4e0269aec4",
   "metadata": {},
   "outputs": [
    {
     "data": {
      "text/html": [
       "<div>\n",
       "<style scoped>\n",
       "    .dataframe tbody tr th:only-of-type {\n",
       "        vertical-align: middle;\n",
       "    }\n",
       "\n",
       "    .dataframe tbody tr th {\n",
       "        vertical-align: top;\n",
       "    }\n",
       "\n",
       "    .dataframe thead th {\n",
       "        text-align: right;\n",
       "    }\n",
       "</style>\n",
       "<table border=\"1\" class=\"dataframe\">\n",
       "  <thead>\n",
       "    <tr style=\"text-align: right;\">\n",
       "      <th></th>\n",
       "      <th>Date</th>\n",
       "      <th>Price</th>\n",
       "      <th>Open</th>\n",
       "      <th>High</th>\n",
       "      <th>Low</th>\n",
       "      <th>Vol</th>\n",
       "      <th>Change_percent</th>\n",
       "    </tr>\n",
       "  </thead>\n",
       "  <tbody>\n",
       "    <tr>\n",
       "      <th>0</th>\n",
       "      <td>2020-08</td>\n",
       "      <td>190.65</td>\n",
       "      <td>191.45</td>\n",
       "      <td>192.10</td>\n",
       "      <td>189.55</td>\n",
       "      <td>44.82M</td>\n",
       "      <td>-0.16%</td>\n",
       "    </tr>\n",
       "    <tr>\n",
       "      <th>1</th>\n",
       "      <td>2020-08</td>\n",
       "      <td>190.95</td>\n",
       "      <td>192.30</td>\n",
       "      <td>194.50</td>\n",
       "      <td>190.25</td>\n",
       "      <td>59.74M</td>\n",
       "      <td>-0.26%</td>\n",
       "    </tr>\n",
       "    <tr>\n",
       "      <th>2</th>\n",
       "      <td>2020-08</td>\n",
       "      <td>191.45</td>\n",
       "      <td>192.75</td>\n",
       "      <td>196.85</td>\n",
       "      <td>191.00</td>\n",
       "      <td>68.89M</td>\n",
       "      <td>-0.08%</td>\n",
       "    </tr>\n",
       "    <tr>\n",
       "      <th>3</th>\n",
       "      <td>2020-08</td>\n",
       "      <td>191.60</td>\n",
       "      <td>193.35</td>\n",
       "      <td>193.80</td>\n",
       "      <td>190.50</td>\n",
       "      <td>43.87M</td>\n",
       "      <td>-0.34%</td>\n",
       "    </tr>\n",
       "    <tr>\n",
       "      <th>4</th>\n",
       "      <td>2020-08</td>\n",
       "      <td>192.25</td>\n",
       "      <td>192.00</td>\n",
       "      <td>194.60</td>\n",
       "      <td>190.05</td>\n",
       "      <td>72.46M</td>\n",
       "      <td>0.42%</td>\n",
       "    </tr>\n",
       "  </tbody>\n",
       "</table>\n",
       "</div>"
      ],
      "text/plain": [
       "      Date   Price    Open    High     Low     Vol Change_percent\n",
       "0  2020-08  190.65  191.45  192.10  189.55  44.82M         -0.16%\n",
       "1  2020-08  190.95  192.30  194.50  190.25  59.74M         -0.26%\n",
       "2  2020-08  191.45  192.75  196.85  191.00  68.89M         -0.08%\n",
       "3  2020-08  191.60  193.35  193.80  190.50  43.87M         -0.34%\n",
       "4  2020-08  192.25  192.00  194.60  190.05  72.46M          0.42%"
      ]
     },
     "execution_count": 14,
     "metadata": {},
     "output_type": "execute_result"
    }
   ],
   "source": [
    "df.head()"
   ]
  },
  {
   "cell_type": "code",
   "execution_count": 16,
   "id": "c3ffb51c-3750-4012-87d3-da63cf0813a5",
   "metadata": {},
   "outputs": [
    {
     "data": {
      "text/plain": [
       "Date              0\n",
       "Price             0\n",
       "Open              0\n",
       "High              0\n",
       "Low               0\n",
       "Vol               0\n",
       "Change_percent    0\n",
       "dtype: int64"
      ]
     },
     "execution_count": 16,
     "metadata": {},
     "output_type": "execute_result"
    }
   ],
   "source": [
    "df.isna().sum()"
   ]
  },
  {
   "cell_type": "code",
   "execution_count": 18,
   "id": "24990c6f-2419-4db3-a620-606ecf2a41e2",
   "metadata": {},
   "outputs": [
    {
     "data": {
      "text/plain": [
       "Change_percent\n",
       "-0.02%    13\n",
       "0.37%     10\n",
       "-1.05%     9\n",
       "0.02%      8\n",
       "-0.10%     8\n",
       "          ..\n",
       "3.56%      1\n",
       "5.97%      1\n",
       "0.61%      1\n",
       "-3.39%     1\n",
       "-4.11%     1\n",
       "Name: count, Length: 638, dtype: int64"
      ]
     },
     "execution_count": 18,
     "metadata": {},
     "output_type": "execute_result"
    }
   ],
   "source": [
    "df.Change_percent.value_counts()"
   ]
  },
  {
   "cell_type": "code",
   "execution_count": 20,
   "id": "9b0f1c9f-7a23-4753-8c7c-f0fa5c822e39",
   "metadata": {},
   "outputs": [
    {
     "data": {
      "text/html": [
       "<div>\n",
       "<style scoped>\n",
       "    .dataframe tbody tr th:only-of-type {\n",
       "        vertical-align: middle;\n",
       "    }\n",
       "\n",
       "    .dataframe tbody tr th {\n",
       "        vertical-align: top;\n",
       "    }\n",
       "\n",
       "    .dataframe thead th {\n",
       "        text-align: right;\n",
       "    }\n",
       "</style>\n",
       "<table border=\"1\" class=\"dataframe\">\n",
       "  <thead>\n",
       "    <tr style=\"text-align: right;\">\n",
       "      <th></th>\n",
       "      <th>Date</th>\n",
       "      <th>Price</th>\n",
       "    </tr>\n",
       "  </thead>\n",
       "  <tbody>\n",
       "    <tr>\n",
       "      <th>0</th>\n",
       "      <td>2020-08</td>\n",
       "      <td>190.65</td>\n",
       "    </tr>\n",
       "    <tr>\n",
       "      <th>1</th>\n",
       "      <td>2020-08</td>\n",
       "      <td>190.95</td>\n",
       "    </tr>\n",
       "    <tr>\n",
       "      <th>2</th>\n",
       "      <td>2020-08</td>\n",
       "      <td>191.45</td>\n",
       "    </tr>\n",
       "    <tr>\n",
       "      <th>3</th>\n",
       "      <td>2020-08</td>\n",
       "      <td>191.60</td>\n",
       "    </tr>\n",
       "    <tr>\n",
       "      <th>4</th>\n",
       "      <td>2020-08</td>\n",
       "      <td>192.25</td>\n",
       "    </tr>\n",
       "  </tbody>\n",
       "</table>\n",
       "</div>"
      ],
      "text/plain": [
       "      Date   Price\n",
       "0  2020-08  190.65\n",
       "1  2020-08  190.95\n",
       "2  2020-08  191.45\n",
       "3  2020-08  191.60\n",
       "4  2020-08  192.25"
      ]
     },
     "execution_count": 20,
     "metadata": {},
     "output_type": "execute_result"
    }
   ],
   "source": [
    "df=df.drop(['Open','High','Low','Vol','Change_percent'],axis=1)\n",
    "df.head()"
   ]
  },
  {
   "cell_type": "code",
   "execution_count": 22,
   "id": "8d1df00d-980b-4b14-bd8a-eabb0df8a43b",
   "metadata": {},
   "outputs": [
    {
     "data": {
      "text/html": [
       "<div>\n",
       "<style scoped>\n",
       "    .dataframe tbody tr th:only-of-type {\n",
       "        vertical-align: middle;\n",
       "    }\n",
       "\n",
       "    .dataframe tbody tr th {\n",
       "        vertical-align: top;\n",
       "    }\n",
       "\n",
       "    .dataframe thead th {\n",
       "        text-align: right;\n",
       "    }\n",
       "</style>\n",
       "<table border=\"1\" class=\"dataframe\">\n",
       "  <thead>\n",
       "    <tr style=\"text-align: right;\">\n",
       "      <th></th>\n",
       "      <th>Price</th>\n",
       "    </tr>\n",
       "    <tr>\n",
       "      <th>Date</th>\n",
       "      <th></th>\n",
       "    </tr>\n",
       "  </thead>\n",
       "  <tbody>\n",
       "    <tr>\n",
       "      <th>2020-08</th>\n",
       "      <td>190.65</td>\n",
       "    </tr>\n",
       "    <tr>\n",
       "      <th>2020-08</th>\n",
       "      <td>190.95</td>\n",
       "    </tr>\n",
       "    <tr>\n",
       "      <th>2020-08</th>\n",
       "      <td>191.45</td>\n",
       "    </tr>\n",
       "    <tr>\n",
       "      <th>2020-08</th>\n",
       "      <td>191.60</td>\n",
       "    </tr>\n",
       "    <tr>\n",
       "      <th>2020-08</th>\n",
       "      <td>192.25</td>\n",
       "    </tr>\n",
       "    <tr>\n",
       "      <th>...</th>\n",
       "      <td>...</td>\n",
       "    </tr>\n",
       "    <tr>\n",
       "      <th>2015-01</th>\n",
       "      <td>300.15</td>\n",
       "    </tr>\n",
       "    <tr>\n",
       "      <th>2015-01</th>\n",
       "      <td>299.90</td>\n",
       "    </tr>\n",
       "    <tr>\n",
       "      <th>2015-01</th>\n",
       "      <td>312.75</td>\n",
       "    </tr>\n",
       "    <tr>\n",
       "      <th>2015-01</th>\n",
       "      <td>315.25</td>\n",
       "    </tr>\n",
       "    <tr>\n",
       "      <th>2015-01</th>\n",
       "      <td>314.00</td>\n",
       "    </tr>\n",
       "  </tbody>\n",
       "</table>\n",
       "<p>1385 rows × 1 columns</p>\n",
       "</div>"
      ],
      "text/plain": [
       "          Price\n",
       "Date           \n",
       "2020-08  190.65\n",
       "2020-08  190.95\n",
       "2020-08  191.45\n",
       "2020-08  191.60\n",
       "2020-08  192.25\n",
       "...         ...\n",
       "2015-01  300.15\n",
       "2015-01  299.90\n",
       "2015-01  312.75\n",
       "2015-01  315.25\n",
       "2015-01  314.00\n",
       "\n",
       "[1385 rows x 1 columns]"
      ]
     },
     "execution_count": 22,
     "metadata": {},
     "output_type": "execute_result"
    }
   ],
   "source": [
    "df1=df.set_index('Date')\n",
    "df1"
   ]
  },
  {
   "cell_type": "code",
   "execution_count": 25,
   "id": "b35692c7-16eb-46db-b63b-001c4ca20762",
   "metadata": {},
   "outputs": [
    {
     "data": {
      "text/html": [
       "<div>\n",
       "<style scoped>\n",
       "    .dataframe tbody tr th:only-of-type {\n",
       "        vertical-align: middle;\n",
       "    }\n",
       "\n",
       "    .dataframe tbody tr th {\n",
       "        vertical-align: top;\n",
       "    }\n",
       "\n",
       "    .dataframe thead th {\n",
       "        text-align: right;\n",
       "    }\n",
       "</style>\n",
       "<table border=\"1\" class=\"dataframe\">\n",
       "  <thead>\n",
       "    <tr style=\"text-align: right;\">\n",
       "      <th></th>\n",
       "      <th>Price</th>\n",
       "    </tr>\n",
       "    <tr>\n",
       "      <th>Date</th>\n",
       "      <th></th>\n",
       "    </tr>\n",
       "  </thead>\n",
       "  <tbody>\n",
       "    <tr>\n",
       "      <th>2020-08</th>\n",
       "      <td>190.65</td>\n",
       "    </tr>\n",
       "    <tr>\n",
       "      <th>2020-08</th>\n",
       "      <td>190.95</td>\n",
       "    </tr>\n",
       "    <tr>\n",
       "      <th>2020-08</th>\n",
       "      <td>191.45</td>\n",
       "    </tr>\n",
       "    <tr>\n",
       "      <th>2020-08</th>\n",
       "      <td>191.60</td>\n",
       "    </tr>\n",
       "    <tr>\n",
       "      <th>2020-08</th>\n",
       "      <td>192.25</td>\n",
       "    </tr>\n",
       "    <tr>\n",
       "      <th>...</th>\n",
       "      <td>...</td>\n",
       "    </tr>\n",
       "    <tr>\n",
       "      <th>2015-01</th>\n",
       "      <td>300.15</td>\n",
       "    </tr>\n",
       "    <tr>\n",
       "      <th>2015-01</th>\n",
       "      <td>299.90</td>\n",
       "    </tr>\n",
       "    <tr>\n",
       "      <th>2015-01</th>\n",
       "      <td>312.75</td>\n",
       "    </tr>\n",
       "    <tr>\n",
       "      <th>2015-01</th>\n",
       "      <td>315.25</td>\n",
       "    </tr>\n",
       "    <tr>\n",
       "      <th>2015-01</th>\n",
       "      <td>314.00</td>\n",
       "    </tr>\n",
       "  </tbody>\n",
       "</table>\n",
       "<p>1385 rows × 1 columns</p>\n",
       "</div>"
      ],
      "text/plain": [
       "          Price\n",
       "Date           \n",
       "2020-08  190.65\n",
       "2020-08  190.95\n",
       "2020-08  191.45\n",
       "2020-08  191.60\n",
       "2020-08  192.25\n",
       "...         ...\n",
       "2015-01  300.15\n",
       "2015-01  299.90\n",
       "2015-01  312.75\n",
       "2015-01  315.25\n",
       "2015-01  314.00\n",
       "\n",
       "[1385 rows x 1 columns]"
      ]
     },
     "execution_count": 25,
     "metadata": {},
     "output_type": "execute_result"
    }
   ],
   "source": [
    "df1"
   ]
  },
  {
   "cell_type": "code",
   "execution_count": 27,
   "id": "113d0e91-3009-452a-9a5a-5cc30b139986",
   "metadata": {},
   "outputs": [
    {
     "data": {
      "text/plain": [
       "Test Statistic                   -2.683735\n",
       "p-value                           0.076895\n",
       "#lags used                        7.000000\n",
       "number of observations used    1377.000000\n",
       "dtype: float64"
      ]
     },
     "execution_count": 27,
     "metadata": {},
     "output_type": "execute_result"
    }
   ],
   "source": [
    "from statsmodels.tsa.stattools import adfuller\n",
    "dftest = adfuller(df['Price'])\n",
    "dfoutput = pd.Series(dftest[0:4],index=['Test Statistic','p-value','#lags used','number of observations used'])\n",
    "dfoutput"
   ]
  },
  {
   "cell_type": "markdown",
   "id": "cac6b292-bf9d-4bd8-89e0-297f00af6d99",
   "metadata": {},
   "source": [
    "* H0 : - The data is  non-stationary\n",
    "* H1 : - The data is  stationary\n",
    "\n",
    "* Alpha = 0.05 \n"
   ]
  },
  {
   "cell_type": "markdown",
   "id": "66f70f19-5731-4ebf-8f87-fdaca02dfc48",
   "metadata": {},
   "source": [
    "Here,p-value is greater than alpha 0.05 s0 we do not reject H0.\n",
    "* The data is non-stationary"
   ]
  },
  {
   "cell_type": "code",
   "execution_count": 31,
   "id": "ab9853a6-a02d-451c-b101-598a5b3a4d83",
   "metadata": {
    "scrolled": true
   },
   "outputs": [
    {
     "data": {
      "text/plain": [
       "<Axes: xlabel='Date'>"
      ]
     },
     "execution_count": 31,
     "metadata": {},
     "output_type": "execute_result"
    },
    {
     "data": {
      "image/png": "[encoded data removed]",
      "text/plain": [
       "<Figure size 2000x300 with 1 Axes>"
      ]
     },
     "metadata": {},
     "output_type": "display_data"
    }
   ],
   "source": [
    "df.plot.line(x = 'Date',y = 'Price',figsize=(20,3))"
   ]
  },
  {
   "cell_type": "code",
   "execution_count": 32,
   "id": "9a26d94d-3394-4342-b747-ffd4fa7fb4b7",
   "metadata": {},
   "outputs": [
    {
     "data": {
      "text/plain": [
       "{'smoothing_level': 0.9989989552814635,\n",
       " 'smoothing_trend': nan,\n",
       " 'smoothing_seasonal': nan,\n",
       " 'damping_trend': nan,\n",
       " 'initial_level': 190.65,\n",
       " 'initial_trend': nan,\n",
       " 'initial_seasons': array([], dtype=float64),\n",
       " 'use_boxcox': False,\n",
       " 'lamda': None,\n",
       " 'remove_bias': False}"
      ]
     },
     "execution_count": 32,
     "metadata": {},
     "output_type": "execute_result"
    }
   ],
   "source": [
    "fit_auto = SimpleExpSmoothing(df1).fit(optimized=True)\n",
    "fit_auto.params"
   ]
  },
  {
   "cell_type": "code",
   "execution_count": 35,
   "id": "c40cd1a0-ddf8-445e-8019-b1cacf70e474",
   "metadata": {},
   "outputs": [
    {
     "data": {
      "text/html": [
       "<div>\n",
       "<style scoped>\n",
       "    .dataframe tbody tr th:only-of-type {\n",
       "        vertical-align: middle;\n",
       "    }\n",
       "\n",
       "    .dataframe tbody tr th {\n",
       "        vertical-align: top;\n",
       "    }\n",
       "\n",
       "    .dataframe thead th {\n",
       "        text-align: right;\n",
       "    }\n",
       "</style>\n",
       "<table border=\"1\" class=\"dataframe\">\n",
       "  <thead>\n",
       "    <tr style=\"text-align: right;\">\n",
       "      <th></th>\n",
       "      <th>Price</th>\n",
       "      <th>Forecast</th>\n",
       "    </tr>\n",
       "    <tr>\n",
       "      <th>Date</th>\n",
       "      <th></th>\n",
       "      <th></th>\n",
       "    </tr>\n",
       "  </thead>\n",
       "  <tbody>\n",
       "    <tr>\n",
       "      <th>2020-08</th>\n",
       "      <td>190.65</td>\n",
       "      <td>190.65</td>\n",
       "    </tr>\n",
       "    <tr>\n",
       "      <th>2020-08</th>\n",
       "      <td>190.95</td>\n",
       "      <td>190.65</td>\n",
       "    </tr>\n",
       "    <tr>\n",
       "      <th>2020-08</th>\n",
       "      <td>191.45</td>\n",
       "      <td>190.95</td>\n",
       "    </tr>\n",
       "    <tr>\n",
       "      <th>2020-08</th>\n",
       "      <td>191.60</td>\n",
       "      <td>191.45</td>\n",
       "    </tr>\n",
       "    <tr>\n",
       "      <th>2020-08</th>\n",
       "      <td>192.25</td>\n",
       "      <td>191.60</td>\n",
       "    </tr>\n",
       "  </tbody>\n",
       "</table>\n",
       "</div>"
      ],
      "text/plain": [
       "          Price  Forecast\n",
       "Date                     \n",
       "2020-08  190.65    190.65\n",
       "2020-08  190.95    190.65\n",
       "2020-08  191.45    190.95\n",
       "2020-08  191.60    191.45\n",
       "2020-08  192.25    191.60"
      ]
     },
     "execution_count": 35,
     "metadata": {},
     "output_type": "execute_result"
    }
   ],
   "source": [
    "df1[\"Forecast\"] = np.round(fit_auto.fittedvalues,2)\n",
    "df1.head()"
   ]
  },
  {
   "cell_type": "code",
   "execution_count": 37,
   "id": "5b929ee2-1b49-4362-9e7e-88cd892a5eac",
   "metadata": {},
   "outputs": [
    {
     "data": {
      "text/plain": [
       "1.6028513101694588"
      ]
     },
     "execution_count": 37,
     "metadata": {},
     "output_type": "execute_result"
    }
   ],
   "source": [
    "mean_absolute_percentage_error = np.mean(np.abs(df1.Price - df1.Forecast)/np.abs(df1.Price))*100\n",
    "mean_absolute_percentage_error"
   ]
  },
  {
   "cell_type": "code",
   "execution_count": 39,
   "id": "8d369d7d-a1c4-4795-9474-cdb38fe99772",
   "metadata": {},
   "outputs": [
    {
     "data": {
      "text/plain": [
       "1385    314.001249\n",
       "dtype: float64"
      ]
     },
     "execution_count": 39,
     "metadata": {},
     "output_type": "execute_result"
    }
   ],
   "source": [
    "fcast1 = fit_auto.forecast(1)\n",
    "fcast1 "
   ]
  },
  {
   "cell_type": "code",
   "execution_count": 42,
   "id": "5b9eaf47-93f6-4a4e-8e6a-13ee769ddac8",
   "metadata": {},
   "outputs": [
    {
     "data": {
      "image/png": "[encoded data removed]",
      "text/plain": [
       "<Figure size 640x480 with 1 Axes>"
      ]
     },
     "metadata": {},
     "output_type": "display_data"
    }
   ],
   "source": [
    "from matplotlib import pyplot\n",
    "\n",
    "diff = df.Price.diff()\n",
    "pyplot.plot(diff)\n",
    "pyplot.show()"
   ]
  },
  {
   "cell_type": "code",
   "execution_count": 59,
   "id": "cf37bdb0-7c09-4e25-a346-5381064f5436",
   "metadata": {},
   "outputs": [
    {
     "data": {
      "text/html": [
       "<div>\n",
       "<style scoped>\n",
       "    .dataframe tbody tr th:only-of-type {\n",
       "        vertical-align: middle;\n",
       "    }\n",
       "\n",
       "    .dataframe tbody tr th {\n",
       "        vertical-align: top;\n",
       "    }\n",
       "\n",
       "    .dataframe thead th {\n",
       "        text-align: right;\n",
       "    }\n",
       "</style>\n",
       "<table border=\"1\" class=\"dataframe\">\n",
       "  <thead>\n",
       "    <tr style=\"text-align: right;\">\n",
       "      <th></th>\n",
       "      <th>Date</th>\n",
       "      <th>Price</th>\n",
       "      <th>diff_1</th>\n",
       "      <th>diff_2</th>\n",
       "    </tr>\n",
       "  </thead>\n",
       "  <tbody>\n",
       "    <tr>\n",
       "      <th>0</th>\n",
       "      <td>2020-08</td>\n",
       "      <td>190.65</td>\n",
       "      <td>NaN</td>\n",
       "      <td>NaN</td>\n",
       "    </tr>\n",
       "    <tr>\n",
       "      <th>1</th>\n",
       "      <td>2020-08</td>\n",
       "      <td>190.95</td>\n",
       "      <td>0.30</td>\n",
       "      <td>NaN</td>\n",
       "    </tr>\n",
       "    <tr>\n",
       "      <th>2</th>\n",
       "      <td>2020-08</td>\n",
       "      <td>191.45</td>\n",
       "      <td>0.50</td>\n",
       "      <td>0.20</td>\n",
       "    </tr>\n",
       "    <tr>\n",
       "      <th>3</th>\n",
       "      <td>2020-08</td>\n",
       "      <td>191.60</td>\n",
       "      <td>0.15</td>\n",
       "      <td>-0.35</td>\n",
       "    </tr>\n",
       "    <tr>\n",
       "      <th>4</th>\n",
       "      <td>2020-08</td>\n",
       "      <td>192.25</td>\n",
       "      <td>0.65</td>\n",
       "      <td>0.50</td>\n",
       "    </tr>\n",
       "    <tr>\n",
       "      <th>...</th>\n",
       "      <td>...</td>\n",
       "      <td>...</td>\n",
       "      <td>...</td>\n",
       "      <td>...</td>\n",
       "    </tr>\n",
       "    <tr>\n",
       "      <th>1380</th>\n",
       "      <td>2015-01</td>\n",
       "      <td>300.15</td>\n",
       "      <td>-4.70</td>\n",
       "      <td>-6.35</td>\n",
       "    </tr>\n",
       "    <tr>\n",
       "      <th>1381</th>\n",
       "      <td>2015-01</td>\n",
       "      <td>299.90</td>\n",
       "      <td>-0.25</td>\n",
       "      <td>4.45</td>\n",
       "    </tr>\n",
       "    <tr>\n",
       "      <th>1382</th>\n",
       "      <td>2015-01</td>\n",
       "      <td>312.75</td>\n",
       "      <td>12.85</td>\n",
       "      <td>13.10</td>\n",
       "    </tr>\n",
       "    <tr>\n",
       "      <th>1383</th>\n",
       "      <td>2015-01</td>\n",
       "      <td>315.25</td>\n",
       "      <td>2.50</td>\n",
       "      <td>-10.35</td>\n",
       "    </tr>\n",
       "    <tr>\n",
       "      <th>1384</th>\n",
       "      <td>2015-01</td>\n",
       "      <td>314.00</td>\n",
       "      <td>-1.25</td>\n",
       "      <td>-3.75</td>\n",
       "    </tr>\n",
       "  </tbody>\n",
       "</table>\n",
       "<p>1385 rows × 4 columns</p>\n",
       "</div>"
      ],
      "text/plain": [
       "         Date   Price  diff_1  diff_2\n",
       "0     2020-08  190.65     NaN     NaN\n",
       "1     2020-08  190.95    0.30     NaN\n",
       "2     2020-08  191.45    0.50    0.20\n",
       "3     2020-08  191.60    0.15   -0.35\n",
       "4     2020-08  192.25    0.65    0.50\n",
       "...       ...     ...     ...     ...\n",
       "1380  2015-01  300.15   -4.70   -6.35\n",
       "1381  2015-01  299.90   -0.25    4.45\n",
       "1382  2015-01  312.75   12.85   13.10\n",
       "1383  2015-01  315.25    2.50  -10.35\n",
       "1384  2015-01  314.00   -1.25   -3.75\n",
       "\n",
       "[1385 rows x 4 columns]"
      ]
     },
     "execution_count": 59,
     "metadata": {},
     "output_type": "execute_result"
    }
   ],
   "source": [
    "df['diff_1'] = df['Price'].diff()  \n",
    "df['diff_2'] = df['diff_1'].diff() \n",
    "df"
   ]
  },
  {
   "cell_type": "code",
   "execution_count": 61,
   "id": "f175335b-9533-4ab1-9c9e-c7019d75fcd3",
   "metadata": {},
   "outputs": [
    {
     "data": {
      "text/plain": [
       "Price     2073.784892\n",
       "diff_1      35.743569\n",
       "diff_2      71.627954\n",
       "dtype: float64"
      ]
     },
     "execution_count": 61,
     "metadata": {},
     "output_type": "execute_result"
    }
   ],
   "source": [
    "import numpy as np\n",
    "np.var(df.iloc[:,1:])"
   ]
  },
  {
   "cell_type": "code",
   "execution_count": 63,
   "id": "ee225fab-8ed7-40ca-bb03-0be5fd939e21",
   "metadata": {},
   "outputs": [
    {
     "data": {
      "text/plain": [
       "Test Statistic                -1.379217e+01\n",
       "p-value                        8.884351e-26\n",
       "#lags used                     6.000000e+00\n",
       "number of observations used    1.377000e+03\n",
       "dtype: float64"
      ]
     },
     "execution_count": 63,
     "metadata": {},
     "output_type": "execute_result"
    }
   ],
   "source": [
    "from statsmodels.tsa.stattools import adfuller\n",
    "dftest = adfuller(df.diff_1.iloc[1:])\n",
    "dfoutput=pd.Series(dftest[0:4],index=['Test Statistic','p-value','#lags used','number of observations used'])\n",
    "dfoutput"
   ]
  },
  {
   "cell_type": "code",
   "execution_count": 65,
   "id": "7167d359-0aed-496b-92d7-8359c2ae6415",
   "metadata": {},
   "outputs": [
    {
     "data": {
      "text/plain": [
       "<Axes: xlabel='Date'>"
      ]
     },
     "execution_count": 65,
     "metadata": {},
     "output_type": "execute_result"
    },
    {
     "data": {
      "image/png": "[encoded data removed]",
      "text/plain": [
       "<Figure size 2000x300 with 1 Axes>"
      ]
     },
     "metadata": {},
     "output_type": "display_data"
    }
   ],
   "source": [
    "df.plot.line(x = 'Date',y = 'diff_1',figsize=(20,3))"
   ]
  },
  {
   "cell_type": "markdown",
   "id": "9c5d206b-bf97-4ace-9670-e9cf3ad46a15",
   "metadata": {},
   "source": [
    "* We Reject Ho, So we can say data is stationary"
   ]
  },
  {
   "cell_type": "code",
   "execution_count": 70,
   "id": "964fd61e-22bb-4711-b258-88ff65454690",
   "metadata": {},
   "outputs": [
    {
     "name": "stdout",
     "output_type": "stream",
     "text": [
      "Performing stepwise search to minimize aic\n",
      " ARIMA(0,0,0)(0,0,0)[0]             : AIC=19441.529, Time=0.06 sec\n",
      " ARIMA(1,0,0)(0,0,0)[0]             : AIC=inf, Time=0.19 sec\n",
      " ARIMA(0,0,1)(0,0,0)[0]             : AIC=17564.252, Time=0.31 sec\n",
      " ARIMA(1,0,1)(0,0,0)[0]             : AIC=8897.413, Time=0.31 sec\n",
      " ARIMA(2,0,1)(0,0,0)[0]             : AIC=8897.830, Time=0.32 sec\n",
      " ARIMA(1,0,2)(0,0,0)[0]             : AIC=8898.827, Time=0.45 sec\n",
      " ARIMA(0,0,2)(0,0,0)[0]             : AIC=inf, Time=0.42 sec\n",
      " ARIMA(2,0,0)(0,0,0)[0]             : AIC=inf, Time=0.39 sec\n",
      " ARIMA(2,0,2)(0,0,0)[0]             : AIC=8899.729, Time=0.42 sec\n",
      " ARIMA(1,0,1)(0,0,0)[0] intercept   : AIC=8890.987, Time=0.33 sec\n",
      " ARIMA(0,0,1)(0,0,0)[0] intercept   : AIC=12829.475, Time=0.29 sec\n",
      " ARIMA(1,0,0)(0,0,0)[0] intercept   : AIC=inf, Time=0.20 sec\n",
      " ARIMA(2,0,1)(0,0,0)[0] intercept   : AIC=8891.476, Time=0.67 sec\n",
      " ARIMA(1,0,2)(0,0,0)[0] intercept   : AIC=8892.119, Time=0.38 sec\n",
      " ARIMA(0,0,0)(0,0,0)[0] intercept   : AIC=14511.886, Time=0.03 sec\n",
      " ARIMA(0,0,2)(0,0,0)[0] intercept   : AIC=11745.871, Time=0.74 sec\n",
      " ARIMA(2,0,0)(0,0,0)[0] intercept   : AIC=inf, Time=0.31 sec\n",
      " ARIMA(2,0,2)(0,0,0)[0] intercept   : AIC=8894.065, Time=0.84 sec\n",
      "\n",
      "Best model:  ARIMA(1,0,1)(0,0,0)[0] intercept\n",
      "Total fit time: 6.670 seconds\n"
     ]
    }
   ],
   "source": [
    "from statsmodels.tsa.arima_model import ARIMA\n",
    "import pmdarima as pm\n",
    "model = pm.auto_arima(df.Price,\n",
    "                      start_p=0,max_p=3, \n",
    "                      d=0,max_d=2,       \n",
    "                      start_q=0,max_q=3, \n",
    "                      m=12,              \n",
    "                      seasonal=False,    \n",
    "                      test='adf',       \n",
    "                      trace=True)"
   ]
  },
  {
   "cell_type": "code",
   "execution_count": 72,
   "id": "fc73f561-0fda-4902-85c8-4e5808a94d70",
   "metadata": {},
   "outputs": [
    {
     "data": {
      "text/html": [
       "<table class=\"simpletable\">\n",
       "<caption>SARIMAX Results</caption>\n",
       "<tr>\n",
       "  <th>Dep. Variable:</th>           <td>y</td>        <th>  No. Observations:  </th>   <td>1385</td>   \n",
       "</tr>\n",
       "<tr>\n",
       "  <th>Model:</th>           <td>SARIMAX(1, 0, 1)</td> <th>  Log Likelihood     </th> <td>-4441.494</td>\n",
       "</tr>\n",
       "<tr>\n",
       "  <th>Date:</th>            <td>Fri, 09 Aug 2024</td> <th>  AIC                </th> <td>8890.987</td> \n",
       "</tr>\n",
       "<tr>\n",
       "  <th>Time:</th>                <td>16:41:10</td>     <th>  BIC                </th> <td>8911.921</td> \n",
       "</tr>\n",
       "<tr>\n",
       "  <th>Sample:</th>                  <td>0</td>        <th>  HQIC               </th> <td>8898.817</td> \n",
       "</tr>\n",
       "<tr>\n",
       "  <th></th>                      <td> - 1385</td>     <th>                     </th>     <td> </td>    \n",
       "</tr>\n",
       "<tr>\n",
       "  <th>Covariance Type:</th>        <td>opg</td>       <th>                     </th>     <td> </td>    \n",
       "</tr>\n",
       "</table>\n",
       "<table class=\"simpletable\">\n",
       "<tr>\n",
       "      <td></td>         <th>coef</th>     <th>std err</th>      <th>z</th>      <th>P>|z|</th>  <th>[0.025</th>    <th>0.975]</th>  \n",
       "</tr>\n",
       "<tr>\n",
       "  <th>intercept</th> <td>    2.1316</td> <td>    0.912</td> <td>    2.336</td> <td> 0.019</td> <td>    0.343</td> <td>    3.920</td>\n",
       "</tr>\n",
       "<tr>\n",
       "  <th>ar.L1</th>     <td>    0.9919</td> <td>    0.003</td> <td>  288.060</td> <td> 0.000</td> <td>    0.985</td> <td>    0.999</td>\n",
       "</tr>\n",
       "<tr>\n",
       "  <th>ma.L1</th>     <td>    0.0031</td> <td>    0.020</td> <td>    0.159</td> <td> 0.874</td> <td>   -0.036</td> <td>    0.042</td>\n",
       "</tr>\n",
       "<tr>\n",
       "  <th>sigma2</th>    <td>   35.6189</td> <td>    0.516</td> <td>   69.093</td> <td> 0.000</td> <td>   34.608</td> <td>   36.629</td>\n",
       "</tr>\n",
       "</table>\n",
       "<table class=\"simpletable\">\n",
       "<tr>\n",
       "  <th>Ljung-Box (L1) (Q):</th>     <td>0.00</td> <th>  Jarque-Bera (JB):  </th> <td>14770.80</td>\n",
       "</tr>\n",
       "<tr>\n",
       "  <th>Prob(Q):</th>                <td>0.96</td> <th>  Prob(JB):          </th>   <td>0.00</td>  \n",
       "</tr>\n",
       "<tr>\n",
       "  <th>Heteroskedasticity (H):</th> <td>0.59</td> <th>  Skew:              </th>   <td>-1.13</td> \n",
       "</tr>\n",
       "<tr>\n",
       "  <th>Prob(H) (two-sided):</th>    <td>0.00</td> <th>  Kurtosis:          </th>   <td>18.84</td> \n",
       "</tr>\n",
       "</table><br/><br/>Warnings:<br/>[1] Covariance matrix calculated using the outer product of gradients (complex-step)."
      ],
      "text/latex": [
       "\\begin{center}\n",
       "\\begin{tabular}{lclc}\n",
       "\\toprule\n",
       "\\textbf{Dep. Variable:}          &        y         & \\textbf{  No. Observations:  } &    1385     \\\\\n",
       "\\textbf{Model:}                  & SARIMAX(1, 0, 1) & \\textbf{  Log Likelihood     } & -4441.494   \\\\\n",
       "\\textbf{Date:}                   & Fri, 09 Aug 2024 & \\textbf{  AIC                } &  8890.987   \\\\\n",
       "\\textbf{Time:}                   &     16:41:10     & \\textbf{  BIC                } &  8911.921   \\\\\n",
       "\\textbf{Sample:}                 &        0         & \\textbf{  HQIC               } &  8898.817   \\\\\n",
       "\\textbf{}                        &      - 1385      & \\textbf{                     } &             \\\\\n",
       "\\textbf{Covariance Type:}        &       opg        & \\textbf{                     } &             \\\\\n",
       "\\bottomrule\n",
       "\\end{tabular}\n",
       "\\begin{tabular}{lcccccc}\n",
       "                   & \\textbf{coef} & \\textbf{std err} & \\textbf{z} & \\textbf{P$> |$z$|$} & \\textbf{[0.025} & \\textbf{0.975]}  \\\\\n",
       "\\midrule\n",
       "\\textbf{intercept} &       2.1316  &        0.912     &     2.336  &         0.019        &        0.343    &        3.920     \\\\\n",
       "\\textbf{ar.L1}     &       0.9919  &        0.003     &   288.060  &         0.000        &        0.985    &        0.999     \\\\\n",
       "\\textbf{ma.L1}     &       0.0031  &        0.020     &     0.159  &         0.874        &       -0.036    &        0.042     \\\\\n",
       "\\textbf{sigma2}    &      35.6189  &        0.516     &    69.093  &         0.000        &       34.608    &       36.629     \\\\\n",
       "\\bottomrule\n",
       "\\end{tabular}\n",
       "\\begin{tabular}{lclc}\n",
       "\\textbf{Ljung-Box (L1) (Q):}     & 0.00 & \\textbf{  Jarque-Bera (JB):  } & 14770.80  \\\\\n",
       "\\textbf{Prob(Q):}                & 0.96 & \\textbf{  Prob(JB):          } &   0.00    \\\\\n",
       "\\textbf{Heteroskedasticity (H):} & 0.59 & \\textbf{  Skew:              } &  -1.13    \\\\\n",
       "\\textbf{Prob(H) (two-sided):}    & 0.00 & \\textbf{  Kurtosis:          } &  18.84    \\\\\n",
       "\\bottomrule\n",
       "\\end{tabular}\n",
       "%\\caption{SARIMAX Results}\n",
       "\\end{center}\n",
       "\n",
       "Warnings: \\newline\n",
       " [1] Covariance matrix calculated using the outer product of gradients (complex-step)."
      ],
      "text/plain": [
       "<class 'statsmodels.iolib.summary.Summary'>\n",
       "\"\"\"\n",
       "                               SARIMAX Results                                \n",
       "==============================================================================\n",
       "Dep. Variable:                      y   No. Observations:                 1385\n",
       "Model:               SARIMAX(1, 0, 1)   Log Likelihood               -4441.494\n",
       "Date:                Fri, 09 Aug 2024   AIC                           8890.987\n",
       "Time:                        16:41:10   BIC                           8911.921\n",
       "Sample:                             0   HQIC                          8898.817\n",
       "                               - 1385                                         \n",
       "Covariance Type:                  opg                                         \n",
       "==============================================================================\n",
       "                 coef    std err          z      P>|z|      [0.025      0.975]\n",
       "------------------------------------------------------------------------------\n",
       "intercept      2.1316      0.912      2.336      0.019       0.343       3.920\n",
       "ar.L1          0.9919      0.003    288.060      0.000       0.985       0.999\n",
       "ma.L1          0.0031      0.020      0.159      0.874      -0.036       0.042\n",
       "sigma2        35.6189      0.516     69.093      0.000      34.608      36.629\n",
       "===================================================================================\n",
       "Ljung-Box (L1) (Q):                   0.00   Jarque-Bera (JB):             14770.80\n",
       "Prob(Q):                              0.96   Prob(JB):                         0.00\n",
       "Heteroskedasticity (H):               0.59   Skew:                            -1.13\n",
       "Prob(H) (two-sided):                  0.00   Kurtosis:                        18.84\n",
       "===================================================================================\n",
       "\n",
       "Warnings:\n",
       "[1] Covariance matrix calculated using the outer product of gradients (complex-step).\n",
       "\"\"\""
      ]
     },
     "execution_count": 72,
     "metadata": {},
     "output_type": "execute_result"
    }
   ],
   "source": [
    "model.summary()"
   ]
  },
  {
   "cell_type": "code",
   "execution_count": 74,
   "id": "e7da796d-56da-4676-b6e5-7966ecd8527a",
   "metadata": {},
   "outputs": [
    {
     "data": {
      "text/html": [
       "<div>\n",
       "<style scoped>\n",
       "    .dataframe tbody tr th:only-of-type {\n",
       "        vertical-align: middle;\n",
       "    }\n",
       "\n",
       "    .dataframe tbody tr th {\n",
       "        vertical-align: top;\n",
       "    }\n",
       "\n",
       "    .dataframe thead th {\n",
       "        text-align: right;\n",
       "    }\n",
       "</style>\n",
       "<table border=\"1\" class=\"dataframe\">\n",
       "  <thead>\n",
       "    <tr style=\"text-align: right;\">\n",
       "      <th></th>\n",
       "      <th>Date</th>\n",
       "      <th>Price</th>\n",
       "      <th>Forecast</th>\n",
       "    </tr>\n",
       "  </thead>\n",
       "  <tbody>\n",
       "    <tr>\n",
       "      <th>0</th>\n",
       "      <td>2020-08</td>\n",
       "      <td>190.65</td>\n",
       "      <td>264.0</td>\n",
       "    </tr>\n",
       "    <tr>\n",
       "      <th>1</th>\n",
       "      <td>2020-08</td>\n",
       "      <td>190.95</td>\n",
       "      <td>191.0</td>\n",
       "    </tr>\n",
       "    <tr>\n",
       "      <th>2</th>\n",
       "      <td>2020-08</td>\n",
       "      <td>191.45</td>\n",
       "      <td>192.0</td>\n",
       "    </tr>\n",
       "    <tr>\n",
       "      <th>3</th>\n",
       "      <td>2020-08</td>\n",
       "      <td>191.60</td>\n",
       "      <td>192.0</td>\n",
       "    </tr>\n",
       "    <tr>\n",
       "      <th>4</th>\n",
       "      <td>2020-08</td>\n",
       "      <td>192.25</td>\n",
       "      <td>192.0</td>\n",
       "    </tr>\n",
       "    <tr>\n",
       "      <th>...</th>\n",
       "      <td>...</td>\n",
       "      <td>...</td>\n",
       "      <td>...</td>\n",
       "    </tr>\n",
       "    <tr>\n",
       "      <th>1380</th>\n",
       "      <td>2015-01</td>\n",
       "      <td>300.15</td>\n",
       "      <td>305.0</td>\n",
       "    </tr>\n",
       "    <tr>\n",
       "      <th>1381</th>\n",
       "      <td>2015-01</td>\n",
       "      <td>299.90</td>\n",
       "      <td>300.0</td>\n",
       "    </tr>\n",
       "    <tr>\n",
       "      <th>1382</th>\n",
       "      <td>2015-01</td>\n",
       "      <td>312.75</td>\n",
       "      <td>300.0</td>\n",
       "    </tr>\n",
       "    <tr>\n",
       "      <th>1383</th>\n",
       "      <td>2015-01</td>\n",
       "      <td>315.25</td>\n",
       "      <td>312.0</td>\n",
       "    </tr>\n",
       "    <tr>\n",
       "      <th>1384</th>\n",
       "      <td>2015-01</td>\n",
       "      <td>314.00</td>\n",
       "      <td>315.0</td>\n",
       "    </tr>\n",
       "  </tbody>\n",
       "</table>\n",
       "<p>1385 rows × 3 columns</p>\n",
       "</div>"
      ],
      "text/plain": [
       "         Date   Price  Forecast\n",
       "0     2020-08  190.65     264.0\n",
       "1     2020-08  190.95     191.0\n",
       "2     2020-08  191.45     192.0\n",
       "3     2020-08  191.60     192.0\n",
       "4     2020-08  192.25     192.0\n",
       "...       ...     ...       ...\n",
       "1380  2015-01  300.15     305.0\n",
       "1381  2015-01  299.90     300.0\n",
       "1382  2015-01  312.75     300.0\n",
       "1383  2015-01  315.25     312.0\n",
       "1384  2015-01  314.00     315.0\n",
       "\n",
       "[1385 rows x 3 columns]"
      ]
     },
     "execution_count": 74,
     "metadata": {},
     "output_type": "execute_result"
    }
   ],
   "source": [
    "import numpy as np\n",
    "df['Forecast'] = np.round(model.predict_in_sample(),0)\n",
    "df.iloc[:,[0,1,4]]"
   ]
  },
  {
   "cell_type": "code",
   "execution_count": 76,
   "id": "7b62aa8c-0afc-48c8-84eb-e1f9bac10869",
   "metadata": {},
   "outputs": [
    {
     "data": {
      "image/png": "[encoded data removed]",
      "text/plain": [
       "<Figure size 640x480 with 1 Axes>"
      ]
     },
     "metadata": {},
     "output_type": "display_data"
    }
   ],
   "source": [
    "plt.plot(df.Price)\n",
    "plt.plot(df.Forecast, color='darkgreen')\n",
    "plt.title(\"Actual vs Forecast fitted value\")\n",
    "plt.show()"
   ]
  },
  {
   "cell_type": "code",
   "execution_count": 78,
   "id": "0ade834e-b5a3-41ca-b7f8-99f6e83b9e28",
   "metadata": {},
   "outputs": [
    {
     "data": {
      "text/plain": [
       "{'MAPE': 1.6371308549232768}"
      ]
     },
     "execution_count": 78,
     "metadata": {},
     "output_type": "execute_result"
    }
   ],
   "source": [
    "def forecast_accuracy(actual,forecast):\n",
    "    mape = (np.mean(np.abs(actual-forecast)/np.abs(actual)))*100 \n",
    "    return({'MAPE':mape})\n",
    "\n",
    "forecast_accuracy(df.Price,df.Forecast)"
   ]
  },
  {
   "cell_type": "code",
   "execution_count": 92,
   "id": "6c8fe03e-1212-4b47-b641-543e6da81b97",
   "metadata": {},
   "outputs": [
    {
     "data": {
      "text/plain": [
       "39.43773465703971"
      ]
     },
     "execution_count": 92,
     "metadata": {},
     "output_type": "execute_result"
    }
   ],
   "source": [
    "from sklearn.metrics import mean_squared_error\n",
    "mse = mean_squared_error(df['Price'], df['Forecast'])\n",
    "mse"
   ]
  },
  {
   "cell_type": "code",
   "execution_count": 96,
   "id": "605efb04-59a8-4360-8585-c20e0da10bfb",
   "metadata": {},
   "outputs": [
    {
     "data": {
      "text/plain": [
       "6.27994702661095"
      ]
     },
     "execution_count": 96,
     "metadata": {},
     "output_type": "execute_result"
    }
   ],
   "source": [
    "rmse = np.sqrt(mse)\n",
    "rmse"
   ]
  },
  {
   "cell_type": "code",
   "execution_count": 86,
   "id": "96ae5d4e-600b-40eb-941c-9191c4e846e3",
   "metadata": {},
   "outputs": [
    {
     "data": {
      "image/png": "[encoded data removed]",
      "text/plain": [
       "<Figure size 640x480 with 1 Axes>"
      ]
     },
     "metadata": {},
     "output_type": "display_data"
    }
   ],
   "source": [
    "n_periods = 36\n",
    "fc = model.predict(n_periods=n_periods)\n",
    "\n",
    "index_of_fc = np.arange(len(df.Price), len(df.Price)+n_periods)\n",
    "\n",
    "\n",
    "fc_series = pd.Series(fc, index=index_of_fc)\n",
    "\n",
    "# Plot\n",
    "plt.plot(df.Price)\n",
    "plt.plot(fc_series, color='darkred')\n",
    "plt.title(\"Final Forecast of WWW Usage\")\n",
    "plt.show()"
   ]
  },
  {
   "cell_type": "code",
   "execution_count": null,
   "id": "374dc407-3d9d-4a06-a5e5-760848175728",
   "metadata": {},
   "outputs": [],
   "source": []
  }
 ],
 "metadata": {
  "kernelspec": {
   "display_name": "Python 3 (ipykernel)",
   "language": "python",
   "name": "python3"
  },
  "language_info": {
   "codemirror_mode": {
    "name": "ipython",
    "version": 3
   },
   "file_extension": ".py",
   "mimetype": "text/x-python",
   "name": "python",
   "nbconvert_exporter": "python",
   "pygments_lexer": "ipython3",
   "version": "3.12.4"
  }
 },
 "nbformat": 4,
 "nbformat_minor": 5
}
